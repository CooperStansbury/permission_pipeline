{
 "cells": [
  {
   "cell_type": "code",
   "execution_count": 1,
   "metadata": {},
   "outputs": [
    {
     "name": "stdout",
     "output_type": "stream",
     "text": [
      "VERSION:  3.7.3\n"
     ]
    }
   ],
   "source": [
    "from platform import python_version\n",
    "print(\"VERSION: \", python_version()) # expect 3.7.0"
   ]
  },
  {
   "cell_type": "code",
   "execution_count": 37,
   "metadata": {},
   "outputs": [],
   "source": [
    "import pandas as pd\n",
    "import numpy as np\n",
    "import matplotlib.pyplot as plt\n",
    "from importlib import reload\n",
    "from matplotlib.pyplot import figure\n",
    "import datetime\n",
    "from sklearn.model_selection import train_test_split\n",
    "from sklearn.metrics import classification_report\n",
    "from sklearn.metrics import accuracy_score\n",
    "from sklearn.metrics import precision_score\n",
    "from sklearn.metrics import roc_auc_score\n",
    "from sklearn.svm import SVC\n",
    "from sklearn.linear_model import LogisticRegression\n",
    "from sklearn.tree import DecisionTreeClassifier\n",
    "from sklearn.ensemble import RandomForestClassifier\n",
    "\n",
    "# keras/tensorflow\n",
    "from tensorflow.metrics import auc as tf_auc\n",
    "from tensorflow import local_variables_initializer\n",
    "import keras\n",
    "import keras.backend as K\n",
    "from keras.preprocessing import text, sequence\n",
    "from keras.preprocessing.text import Tokenizer\n",
    "from keras.preprocessing.sequence import pad_sequences\n",
    "from keras.models import Sequential\n",
    "from keras.layers import Dense, Conv1D, Conv2D, \\\n",
    "        MaxPooling1D, LSTM, Flatten, BatchNormalization,Embedding,Reshape, Dropout\n",
    "\n",
    "\n",
    "# Local custom data loading functions\n",
    "import load_data\n",
    "import clean_data\n",
    "import custom_feature_extraction\n",
    "import custom_keras_metrics"
   ]
  },
  {
   "cell_type": "code",
   "execution_count": 3,
   "metadata": {},
   "outputs": [],
   "source": [
    "# dirty spaCy error workaround:\n",
    "get_ipython().config.get('IPKernelApp', {})['parent_appname'] = \"\""
   ]
  },
  {
   "cell_type": "markdown",
   "metadata": {},
   "source": [
    "### Load annoations"
   ]
  },
  {
   "cell_type": "code",
   "execution_count": 4,
   "metadata": {},
   "outputs": [
    {
     "data": {
      "text/html": [
       "<div>\n",
       "<style scoped>\n",
       "    .dataframe tbody tr th:only-of-type {\n",
       "        vertical-align: middle;\n",
       "    }\n",
       "\n",
       "    .dataframe tbody tr th {\n",
       "        vertical-align: top;\n",
       "    }\n",
       "\n",
       "    .dataframe thead th {\n",
       "        text-align: right;\n",
       "    }\n",
       "</style>\n",
       "<table border=\"1\" class=\"dataframe\">\n",
       "  <thead>\n",
       "    <tr style=\"text-align: right;\">\n",
       "      <th></th>\n",
       "      <th>annotation</th>\n",
       "      <th>fileID</th>\n",
       "      <th>text</th>\n",
       "      <th>label</th>\n",
       "    </tr>\n",
       "  </thead>\n",
       "  <tbody>\n",
       "    <tr>\n",
       "      <th>0</th>\n",
       "      <td>NON_permission_statement.</td>\n",
       "      <td>1</td>\n",
       "      <td>a copy of this entire consent form will be giv...</td>\n",
       "      <td>0</td>\n",
       "    </tr>\n",
       "    <tr>\n",
       "      <th>1</th>\n",
       "      <td>permission_statement</td>\n",
       "      <td>1</td>\n",
       "      <td>i give my permission for photographs/audio/vid...</td>\n",
       "      <td>1</td>\n",
       "    </tr>\n",
       "    <tr>\n",
       "      <th>2</th>\n",
       "      <td>NON_permission_statement.</td>\n",
       "      <td>1</td>\n",
       "      <td>language for required recordings: the research...</td>\n",
       "      <td>0</td>\n",
       "    </tr>\n",
       "    <tr>\n",
       "      <th>3</th>\n",
       "      <td>NON_permission_statement.</td>\n",
       "      <td>1</td>\n",
       "      <td>\"(if applicable, add) information about indivi...</td>\n",
       "      <td>0</td>\n",
       "    </tr>\n",
       "    <tr>\n",
       "      <th>4</th>\n",
       "      <td>NON_permission_statement.</td>\n",
       "      <td>1</td>\n",
       "      <td>this consent form will be filed securely in an...</td>\n",
       "      <td>0</td>\n",
       "    </tr>\n",
       "  </tbody>\n",
       "</table>\n",
       "</div>"
      ],
      "text/plain": [
       "                  annotation fileID  \\\n",
       "0  NON_permission_statement.      1   \n",
       "1       permission_statement      1   \n",
       "2  NON_permission_statement.      1   \n",
       "3  NON_permission_statement.      1   \n",
       "4  NON_permission_statement.      1   \n",
       "\n",
       "                                                text  label  \n",
       "0  a copy of this entire consent form will be giv...      0  \n",
       "1  i give my permission for photographs/audio/vid...      1  \n",
       "2  language for required recordings: the research...      0  \n",
       "3  \"(if applicable, add) information about indivi...      0  \n",
       "4  this consent form will be filed securely in an...      0  "
      ]
     },
     "execution_count": 4,
     "metadata": {},
     "output_type": "execute_result"
    }
   ],
   "source": [
    "annotations ='../data/data_turk/Annotations04-09-19.json'\n",
    "df = load_data.getJSONData(annotations)\n",
    "\n",
    "to  = 'label'\n",
    "field = 'annotation'\n",
    "df[to] = df.apply(lambda row:clean_data.convertAnnotationtoBinary(row, field), axis =1)   \n",
    "df.head()"
   ]
  },
  {
   "cell_type": "markdown",
   "metadata": {},
   "source": [
    "### Data Pre-processing"
   ]
  },
  {
   "cell_type": "code",
   "execution_count": 27,
   "metadata": {},
   "outputs": [],
   "source": [
    "slim2 = df[['label', 'text']] # subset dataframe to make it easier to work with"
   ]
  },
  {
   "cell_type": "code",
   "execution_count": 28,
   "metadata": {},
   "outputs": [],
   "source": [
    "vocabulary_size = 1000\n",
    "maxlen = 100\n",
    "\n",
    "tokenizer = Tokenizer(num_words= vocabulary_size)\n",
    "tokenizer.fit_on_texts(slim2['text'])\n",
    "sequences = tokenizer.texts_to_sequences(slim2['text'])\n",
    "data = pad_sequences(sequences, maxlen=maxlen)"
   ]
  },
  {
   "cell_type": "code",
   "execution_count": 29,
   "metadata": {},
   "outputs": [
    {
     "name": "stderr",
     "output_type": "stream",
     "text": [
      "/usr/local/lib/python3.7/site-packages/ipykernel_launcher.py:1: SettingWithCopyWarning: \n",
      "A value is trying to be set on a copy of a slice from a DataFrame.\n",
      "Try using .loc[row_indexer,col_indexer] = value instead\n",
      "\n",
      "See the caveats in the documentation: http://pandas.pydata.org/pandas-docs/stable/indexing.html#indexing-view-versus-copy\n",
      "  \"\"\"Entry point for launching an IPython kernel.\n"
     ]
    }
   ],
   "source": [
    "slim2['data'] = data.tolist()\n",
    "# slim2['data'].head(10)"
   ]
  },
  {
   "cell_type": "code",
   "execution_count": 30,
   "metadata": {},
   "outputs": [],
   "source": [
    "new_col_names = ['seq_posi' + str(i) for i in range(0,maxlen)]\n",
    "pos_seq_df = pd.DataFrame(slim2['data'].values.tolist(), columns=new_col_names)\n",
    "slim2 = pd.concat([slim2, pos_seq_df], axis=1)\n",
    "# slim2.head()"
   ]
  },
  {
   "cell_type": "markdown",
   "metadata": {},
   "source": [
    "### Train-Test Split\n"
   ]
  },
  {
   "cell_type": "code",
   "execution_count": 31,
   "metadata": {},
   "outputs": [],
   "source": [
    "text_train, text_test = train_test_split(slim2,\n",
    "                               stratify=slim2['label'],\n",
    "                               test_size=0.3, \n",
    "                               random_state=1729)"
   ]
  },
  {
   "cell_type": "markdown",
   "metadata": {},
   "source": [
    "### Convert Labels to Categorical"
   ]
  },
  {
   "cell_type": "code",
   "execution_count": 32,
   "metadata": {},
   "outputs": [],
   "source": [
    "label_train = keras.utils.to_categorical(text_train['label'], num_classes=2)\n",
    "label_test = keras.utils.to_categorical(text_test['label'], num_classes=2)"
   ]
  },
  {
   "cell_type": "markdown",
   "metadata": {},
   "source": [
    "## Baseline Models"
   ]
  },
  {
   "cell_type": "code",
   "execution_count": 38,
   "metadata": {},
   "outputs": [],
   "source": [
    "models = []\n",
    "\n",
    "dtBase = DecisionTreeClassifier(max_depth=10, \n",
    "                               max_features=9,\n",
    "                               class_weight={1:.2})\n",
    "\n",
    "models.append((\"DecisionTree\",dtBase))\n",
    "\n",
    "rdfBase = RandomForestClassifier(n_estimators=1000,\n",
    "                                class_weight={1:.2})\n",
    "\n",
    "models.append((\"RandomForest\",rdfBase))\n",
    "\n",
    "models.append((\"SVM\",SVC(gamma='auto')))\n",
    "models.append((\"LogisticRegression\", LogisticRegression(solver='liblinear',\n",
    "                                  max_iter=1000,\n",
    "                                  penalty='l1')))\n"
   ]
  },
  {
   "cell_type": "code",
   "execution_count": 54,
   "metadata": {},
   "outputs": [],
   "source": [
    "fitted_models = []\n",
    "new_rows = []\n",
    "\n",
    "for name, model in models:\n",
    "    model.fit(text_train[new_col_names], text_train['label'])\n",
    "    fitted_models.append((name, model))\n",
    "    prediction_vec = model.predict(text_test[new_col_names])\n",
    "    row = {\n",
    "        'Model:': name,\n",
    "        'Accuracy:': accuracy_score(text_test['label'], prediction_vec),\n",
    "        'Precision:': precision_score(text_test['label'], prediction_vec),\n",
    "        'ROC:': roc_auc_score(text_test['label'], prediction_vec)\n",
    "    }\n",
    "    \n",
    "    new_rows.append(row)\n",
    "\n",
    "baseline_results_df = pd.DataFrame(new_rows)"
   ]
  },
  {
   "cell_type": "code",
   "execution_count": 55,
   "metadata": {},
   "outputs": [
    {
     "name": "stderr",
     "output_type": "stream",
     "text": [
      "/usr/local/lib/python3.7/site-packages/sklearn/metrics/classification.py:1143: UndefinedMetricWarning: Precision is ill-defined and being set to 0.0 due to no predicted samples.\n",
      "  'precision', 'predicted', average, warn_for)\n"
     ]
    },
    {
     "data": {
      "text/html": [
       "<div>\n",
       "<style scoped>\n",
       "    .dataframe tbody tr th:only-of-type {\n",
       "        vertical-align: middle;\n",
       "    }\n",
       "\n",
       "    .dataframe tbody tr th {\n",
       "        vertical-align: top;\n",
       "    }\n",
       "\n",
       "    .dataframe thead th {\n",
       "        text-align: right;\n",
       "    }\n",
       "</style>\n",
       "<table border=\"1\" class=\"dataframe\">\n",
       "  <thead>\n",
       "    <tr style=\"text-align: right;\">\n",
       "      <th></th>\n",
       "      <th>Model:</th>\n",
       "      <th>Accuracy:</th>\n",
       "      <th>Precision:</th>\n",
       "      <th>ROC:</th>\n",
       "    </tr>\n",
       "  </thead>\n",
       "  <tbody>\n",
       "    <tr>\n",
       "      <th>0</th>\n",
       "      <td>DecisionTree</td>\n",
       "      <td>0.768054</td>\n",
       "      <td>0.238095</td>\n",
       "      <td>0.500799</td>\n",
       "    </tr>\n",
       "    <tr>\n",
       "      <th>1</th>\n",
       "      <td>RandomForest</td>\n",
       "      <td>0.790994</td>\n",
       "      <td>0.642857</td>\n",
       "      <td>0.557773</td>\n",
       "    </tr>\n",
       "    <tr>\n",
       "      <th>2</th>\n",
       "      <td>SVM</td>\n",
       "      <td>0.796092</td>\n",
       "      <td>0.866667</td>\n",
       "      <td>0.547433</td>\n",
       "    </tr>\n",
       "    <tr>\n",
       "      <th>3</th>\n",
       "      <td>LogisticRegression</td>\n",
       "      <td>0.772302</td>\n",
       "      <td>0.350000</td>\n",
       "      <td>0.506255</td>\n",
       "    </tr>\n",
       "    <tr>\n",
       "      <th>6</th>\n",
       "      <td>Naive Majority Class Classifier</td>\n",
       "      <td>0.777400</td>\n",
       "      <td>0.000000</td>\n",
       "      <td>0.500000</td>\n",
       "    </tr>\n",
       "  </tbody>\n",
       "</table>\n",
       "</div>"
      ],
      "text/plain": [
       "                            Model:  Accuracy:  Precision:      ROC:\n",
       "0                     DecisionTree   0.768054    0.238095  0.500799\n",
       "1                     RandomForest   0.790994    0.642857  0.557773\n",
       "2                              SVM   0.796092    0.866667  0.547433\n",
       "3               LogisticRegression   0.772302    0.350000  0.506255\n",
       "6  Naive Majority Class Classifier   0.777400    0.000000  0.500000"
      ]
     },
     "execution_count": 55,
     "metadata": {},
     "output_type": "execute_result"
    }
   ],
   "source": [
    "# Naive baseline\n",
    "majority_class = np.zeros(len(text_test['label']))\n",
    "\n",
    "count = len(baseline_results_df) + 2\n",
    "\n",
    "ac = accuracy_score(text_test['label'], majority_class)\n",
    "pr = precision_score(text_test['label'], majority_class)\n",
    "roc = roc_auc_score(text_test['label'], majority_class)\n",
    "\n",
    "baseline_results_df.loc[count, 'Model:'] = 'Naive Majority Class Classifier'\n",
    "baseline_results_df.loc[count, 'Accuracy:'] = ac\n",
    "baseline_results_df.loc[count, 'Precision:'] = pr\n",
    "baseline_results_df.loc[count, 'ROC:'] = roc\n",
    "\n",
    "cols = ['Model:', 'Accuracy:', 'Precision:', 'ROC:']\n",
    "\n",
    "baseline_results_df = baseline_results_df[cols]\n",
    "baseline_results_df.head(len(baseline_results_df))"
   ]
  },
  {
   "cell_type": "markdown",
   "metadata": {},
   "source": [
    "## Original CNN (Model 1)"
   ]
  },
  {
   "cell_type": "code",
   "execution_count": 14,
   "metadata": {},
   "outputs": [
    {
     "name": "stdout",
     "output_type": "stream",
     "text": [
      "Train on 2746 samples, validate on 1177 samples\n",
      "Epoch 1/5\n",
      "2746/2746 [==============================] - 24s 9ms/step - loss: 0.4004 - acc: 0.8259 - keras_precision: 0.8259 - keras_recall: 0.8259 - keras_auc: 0.8567 - val_loss: 0.3230 - val_acc: 0.8734 - val_keras_precision: 0.8734 - val_keras_recall: 0.8734 - val_keras_auc: 0.9074\n",
      "Epoch 2/5\n",
      "2746/2746 [==============================] - 23s 8ms/step - loss: 0.2554 - acc: 0.8991 - keras_precision: 0.8991 - keras_recall: 0.8991 - keras_auc: 0.9266 - val_loss: 0.3394 - val_acc: 0.8573 - val_keras_precision: 0.8573 - val_keras_recall: 0.8573 - val_keras_auc: 0.9342\n",
      "Epoch 3/5\n",
      "2746/2746 [==============================] - 23s 9ms/step - loss: 0.1860 - acc: 0.9319 - keras_precision: 0.9319 - keras_recall: 0.9319 - keras_auc: 0.9413 - val_loss: 0.3807 - val_acc: 0.8726 - val_keras_precision: 0.8726 - val_keras_recall: 0.8726 - val_keras_auc: 0.9469\n",
      "Epoch 4/5\n",
      "2746/2746 [==============================] - 24s 9ms/step - loss: 0.1255 - acc: 0.9552 - keras_precision: 0.9552 - keras_recall: 0.9552 - keras_auc: 0.9517 - val_loss: 0.3985 - val_acc: 0.8598 - val_keras_precision: 0.8598 - val_keras_recall: 0.8598 - val_keras_auc: 0.9551\n",
      "Epoch 5/5\n",
      "2746/2746 [==============================] - 23s 8ms/step - loss: 0.0801 - acc: 0.9731 - keras_precision: 0.9731 - keras_recall: 0.9731 - keras_auc: 0.9586 - val_loss: 0.4545 - val_acc: 0.8675 - val_keras_precision: 0.8675 - val_keras_recall: 0.8675 - val_keras_auc: 0.9612\n"
     ]
    }
   ],
   "source": [
    "cnn_1 = Sequential()\n",
    "cnn_1.add(Embedding(vocabulary_size, 100, input_length=maxlen))\n",
    "cnn_1.add(Dropout(0.2))\n",
    "cnn_1.add(Conv1D(64, 5, activation='relu'))\n",
    "cnn_1.add(MaxPooling1D(pool_size=4))\n",
    "cnn_1.add(LSTM(100))\n",
    "cnn_1.add(Dense(2, activation='softmax'))\n",
    "cnn_1.compile(loss='binary_crossentropy', \n",
    "               optimizer='adam', \n",
    "                metrics=['accuracy', \n",
    "                    custom_keras_metrics.keras_precision, \n",
    "                    custom_keras_metrics.keras_recall, \n",
    "                    custom_keras_metrics.keras_auc])\n",
    "\n",
    "fit_cnn_1 = cnn_1.fit(text_train[new_col_names], \n",
    "                  label_train, \n",
    "                  validation_data=(text_test[new_col_names],label_test), \n",
    "                  epochs=5,\n",
    "                  shuffle=True,\n",
    "                  batch_size=3)\n",
    "    "
   ]
  },
  {
   "cell_type": "markdown",
   "metadata": {},
   "source": [
    "## CNN 2 - Without LSTM"
   ]
  },
  {
   "cell_type": "code",
   "execution_count": 20,
   "metadata": {},
   "outputs": [
    {
     "name": "stdout",
     "output_type": "stream",
     "text": [
      "Train on 2746 samples, validate on 1177 samples\n",
      "Epoch 1/5\n",
      "2746/2746 [==============================] - 5s 2ms/step - loss: 0.4263 - acc: 0.8146 - keras_precision: 0.8146 - keras_recall: 0.8146 - keras_auc: 0.8233 - val_loss: 0.3329 - val_acc: 0.8624 - val_keras_precision: 0.8624 - val_keras_recall: 0.8624 - val_keras_auc: 0.8943\n",
      "Epoch 2/5\n",
      "2746/2746 [==============================] - 4s 1ms/step - loss: 0.2469 - acc: 0.9013 - keras_precision: 0.9013 - keras_recall: 0.9013 - keras_auc: 0.9205 - val_loss: 0.3366 - val_acc: 0.8700 - val_keras_precision: 0.8700 - val_keras_recall: 0.8700 - val_keras_auc: 0.9309\n",
      "Epoch 3/5\n",
      "2746/2746 [==============================] - 4s 2ms/step - loss: 0.1298 - acc: 0.9512 - keras_precision: 0.9512 - keras_recall: 0.9512 - keras_auc: 0.9421 - val_loss: 0.4404 - val_acc: 0.8420 - val_keras_precision: 0.8420 - val_keras_recall: 0.8420 - val_keras_auc: 0.9489\n",
      "Epoch 4/5\n",
      "2746/2746 [==============================] - 4s 2ms/step - loss: 0.0608 - acc: 0.9818 - keras_precision: 0.9818 - keras_recall: 0.9818 - keras_auc: 0.9542 - val_loss: 0.5766 - val_acc: 0.8590 - val_keras_precision: 0.8590 - val_keras_recall: 0.8590 - val_keras_auc: 0.9584\n",
      "Epoch 5/5\n",
      "2746/2746 [==============================] - 4s 1ms/step - loss: 0.0467 - acc: 0.9909 - keras_precision: 0.9909 - keras_recall: 0.9909 - keras_auc: 0.9610 - val_loss: 0.5252 - val_acc: 0.8641 - val_keras_precision: 0.8641 - val_keras_recall: 0.8641 - val_keras_auc: 0.9638\n"
     ]
    }
   ],
   "source": [
    "cnn_2 = Sequential()\n",
    "cnn_2.add(Embedding(vocabulary_size, 100, input_length=maxlen))\n",
    "cnn_2.add(Dropout(0.2))\n",
    "cnn_2.add(Conv1D(64, 5, activation='relu'))\n",
    "cnn_2.add(MaxPooling1D(pool_size=4))\n",
    "cnn_2.add(Flatten())\n",
    "cnn_2.add(Dense(2, activation='softmax'))\n",
    "cnn_2.compile(loss='binary_crossentropy', \n",
    "               optimizer='adam', \n",
    "                metrics=['accuracy', \n",
    "                    custom_keras_metrics.keras_precision, \n",
    "                    custom_keras_metrics.keras_recall, \n",
    "                    custom_keras_metrics.keras_auc])\n",
    "\n",
    "fit_cnn_2 = cnn_2.fit(text_train[new_col_names], \n",
    "                  label_train, \n",
    "                  validation_data=(text_test[new_col_names],label_test), \n",
    "                  epochs=5,\n",
    "                  shuffle=True,\n",
    "                  batch_size=3)"
   ]
  },
  {
   "cell_type": "markdown",
   "metadata": {},
   "source": [
    "## CNN 3 - LSTM without Convolution"
   ]
  },
  {
   "cell_type": "code",
   "execution_count": 24,
   "metadata": {},
   "outputs": [
    {
     "name": "stdout",
     "output_type": "stream",
     "text": [
      "Train on 2746 samples, validate on 1177 samples\n",
      "Epoch 1/5\n",
      "2746/2746 [==============================] - 81s 30ms/step - loss: 0.4302 - acc: 0.8092 - keras_precision: 0.8092 - keras_recall: 0.8092 - keras_auc: 0.8276 - val_loss: 0.3543 - val_acc: 0.8377 - val_keras_precision: 0.8377 - val_keras_recall: 0.8377 - val_keras_auc: 0.8906\n",
      "Epoch 2/5\n",
      "2746/2746 [==============================] - 79s 29ms/step - loss: 0.2804 - acc: 0.8860 - keras_precision: 0.8860 - keras_recall: 0.8860 - keras_auc: 0.9123 - val_loss: 0.3192 - val_acc: 0.8539 - val_keras_precision: 0.8539 - val_keras_recall: 0.8539 - val_keras_auc: 0.9238\n",
      "Epoch 3/5\n",
      "2746/2746 [==============================] - 79s 29ms/step - loss: 0.2165 - acc: 0.9192 - keras_precision: 0.9192 - keras_recall: 0.9192 - keras_auc: 0.9332 - val_loss: 0.3604 - val_acc: 0.8607 - val_keras_precision: 0.8607 - val_keras_recall: 0.8607 - val_keras_auc: 0.9384\n",
      "Epoch 4/5\n",
      "2746/2746 [==============================] - 81s 29ms/step - loss: 0.1816 - acc: 0.9283 - keras_precision: 0.9283 - keras_recall: 0.9283 - keras_auc: 0.9436 - val_loss: 0.3536 - val_acc: 0.8624 - val_keras_precision: 0.8624 - val_keras_recall: 0.8624 - val_keras_auc: 0.9467\n",
      "Epoch 5/5\n",
      "2746/2746 [==============================] - 80s 29ms/step - loss: 0.1344 - acc: 0.9501 - keras_precision: 0.9501 - keras_recall: 0.9501 - keras_auc: 0.9504 - val_loss: 0.4538 - val_acc: 0.8573 - val_keras_precision: 0.8573 - val_keras_recall: 0.8573 - val_keras_auc: 0.9527\n"
     ]
    }
   ],
   "source": [
    "cnn_3 = Sequential()\n",
    "cnn_3.add(Embedding(vocabulary_size, 100, input_length=maxlen))\n",
    "cnn_3.add(Dropout(0.2))\n",
    "cnn_3.add(LSTM(100))\n",
    "cnn_3.add(Dense(2, activation='softmax'))\n",
    "cnn_3.compile(loss='binary_crossentropy', \n",
    "               optimizer='adam', \n",
    "                metrics=['accuracy', \n",
    "                    custom_keras_metrics.keras_precision, \n",
    "                    custom_keras_metrics.keras_recall, \n",
    "                    custom_keras_metrics.keras_auc])\n",
    "\n",
    "fit_cnn_3 = cnn_3.fit(text_train[new_col_names], \n",
    "                  label_train, \n",
    "                  validation_data=(text_test[new_col_names],label_test), \n",
    "                  epochs=5,\n",
    "                  shuffle=True,\n",
    "                  batch_size=3)"
   ]
  },
  {
   "cell_type": "markdown",
   "metadata": {},
   "source": [
    "## Autoencoder"
   ]
  },
  {
   "cell_type": "code",
   "execution_count": 16,
   "metadata": {},
   "outputs": [
    {
     "name": "stdout",
     "output_type": "stream",
     "text": [
      "Train on 2746 samples, validate on 1177 samples\n",
      "Epoch 1/5\n",
      "2746/2746 [==============================] - 4s 1ms/step - loss: 0.5336 - acc: 0.7764 - keras_precision: 0.7764 - keras_recall: 0.7764 - keras_auc: 0.7578 - val_loss: 0.5304 - val_acc: 0.7774 - val_keras_precision: 0.7774 - val_keras_recall: 0.7774 - val_keras_auc: 0.7722\n",
      "Epoch 2/5\n",
      "2746/2746 [==============================] - 4s 1ms/step - loss: 0.5305 - acc: 0.7775 - keras_precision: 0.7775 - keras_recall: 0.7775 - keras_auc: 0.7728 - val_loss: 0.5306 - val_acc: 0.7774 - val_keras_precision: 0.7774 - val_keras_recall: 0.7774 - val_keras_auc: 0.7749\n",
      "Epoch 3/5\n",
      "2746/2746 [==============================] - 4s 1ms/step - loss: 0.5300 - acc: 0.7775 - keras_precision: 0.7775 - keras_recall: 0.7775 - keras_auc: 0.7777 - val_loss: 0.5302 - val_acc: 0.7774 - val_keras_precision: 0.7774 - val_keras_recall: 0.7774 - val_keras_auc: 0.7773\n",
      "Epoch 4/5\n",
      "2746/2746 [==============================] - 4s 1ms/step - loss: 0.5302 - acc: 0.7775 - keras_precision: 0.7775 - keras_recall: 0.7775 - keras_auc: 0.7773 - val_loss: 0.5302 - val_acc: 0.7774 - val_keras_precision: 0.7774 - val_keras_recall: 0.7774 - val_keras_auc: 0.7771\n",
      "Epoch 5/5\n",
      "2746/2746 [==============================] - 4s 1ms/step - loss: 0.5297 - acc: 0.7775 - keras_precision: 0.7775 - keras_recall: 0.7775 - keras_auc: 0.7769 - val_loss: 0.5304 - val_acc: 0.7774 - val_keras_precision: 0.7774 - val_keras_recall: 0.7774 - val_keras_auc: 0.7780\n"
     ]
    }
   ],
   "source": [
    "dim = text_train[new_col_names].shape[1]\n",
    "\n",
    "auto_encoder_1 = Sequential()\n",
    "auto_encoder_1.add(Dense(units=100, activation='relu', input_dim=dim))\n",
    "auto_encoder_1.add(Dense(units=500, activation='softmax'))\n",
    "auto_encoder_1.add(Dense(units=10, activation='softmax'))\n",
    "auto_encoder_1.add(Dense(units=1000, activation='relu'))\n",
    "auto_encoder_1.add(Dense(units=500, activation='relu'))\n",
    "auto_encoder_1.add(Dense(units=2, activation='softmax'))\n",
    "\n",
    "auto_encoder_1.compile(loss='binary_crossentropy',\n",
    "              optimizer=keras.optimizers.Adagrad(lr=0.001), \n",
    "              metrics=['accuracy', \n",
    "                       custom_keras_metrics.keras_precision, \n",
    "                       custom_keras_metrics.keras_recall, \n",
    "                       custom_keras_metrics.keras_auc])\n",
    "\n",
    "fit_auto_encoder_1 = auto_encoder_1.fit(text_train[new_col_names], \n",
    "                  label_train, \n",
    "                  validation_data=(text_test[new_col_names],label_test), \n",
    "                epochs=5,\n",
    "                batch_size=3,\n",
    "                shuffle=True)"
   ]
  },
  {
   "cell_type": "code",
   "execution_count": null,
   "metadata": {},
   "outputs": [],
   "source": []
  }
 ],
 "metadata": {
  "kernelspec": {
   "display_name": "Python 3",
   "language": "python",
   "name": "python3"
  },
  "language_info": {
   "codemirror_mode": {
    "name": "ipython",
    "version": 3
   },
   "file_extension": ".py",
   "mimetype": "text/x-python",
   "name": "python",
   "nbconvert_exporter": "python",
   "pygments_lexer": "ipython3",
   "version": "3.7.3"
  }
 },
 "nbformat": 4,
 "nbformat_minor": 2
}
